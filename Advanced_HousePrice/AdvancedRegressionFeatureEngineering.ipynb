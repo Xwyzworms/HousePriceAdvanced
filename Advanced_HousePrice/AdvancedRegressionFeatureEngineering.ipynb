{
  "nbformat": 4,
  "nbformat_minor": 0,
  "metadata": {
    "colab": {
      "name": "AdvancedRegressionFeatureEngineering.ipynb",
      "provenance": [],
      "collapsed_sections": []
    },
    "kernelspec": {
      "name": "python3",
      "display_name": "Python 3"
    }
  },
  "cells": [
    {
      "cell_type": "code",
      "metadata": {
        "id": "OVd-UQ3hcCGy",
        "colab_type": "code",
        "outputId": "faf0d075-1d9e-426a-ba68-ceb0bf66dab4",
        "colab": {
          "base_uri": "https://localhost:8080/",
          "height": 54
        }
      },
      "source": [
        "from google.colab import drive\n",
        "drive.mount(\"/content/drive\")"
      ],
      "execution_count": 300,
      "outputs": [
        {
          "output_type": "stream",
          "text": [
            "Drive already mounted at /content/drive; to attempt to forcibly remount, call drive.mount(\"/content/drive\", force_remount=True).\n"
          ],
          "name": "stdout"
        }
      ]
    },
    {
      "cell_type": "code",
      "metadata": {
        "id": "eEOVNwt1h_f0",
        "colab_type": "code",
        "colab": {}
      },
      "source": [
        ""
      ],
      "execution_count": 0,
      "outputs": []
    },
    {
      "cell_type": "code",
      "metadata": {
        "id": "z7BdGaRIcl4H",
        "colab_type": "code",
        "colab": {}
      },
      "source": [
        "import pandas as pd\n",
        "import numpy as np\n",
        "import matplotlib.pyplot as plt\n",
        "pd.set_option('display.max_columns', None)"
      ],
      "execution_count": 0,
      "outputs": []
    },
    {
      "cell_type": "code",
      "metadata": {
        "id": "Z5BSmhrqcwl4",
        "colab_type": "code",
        "colab": {}
      },
      "source": [
        "#df=pd.read_csv(\"/content/drive/My Drive/DataSet/house-prices-advanced-regression-techniques/train.csv\")\n",
        "df=pd.read_csv(\"/content/drive/My Drive/DataSet/house-prices-advanced-regression-techniques/test.csv\")\n",
        "df=df.drop(\"Id\",axis=1)\n"
      ],
      "execution_count": 0,
      "outputs": []
    },
    {
      "cell_type": "code",
      "metadata": {
        "id": "G1z5_4hZc5sL",
        "colab_type": "code",
        "outputId": "f12b59ae-8bbe-459b-d66b-1c4786de32a5",
        "colab": {
          "base_uri": "https://localhost:8080/",
          "height": 578
        }
      },
      "source": [
        "Miss_val=[feature for feature  in df.columns if(df[feature].isna().sum() != 0)]\n",
        "for _f in Miss_val:\n",
        "  print(_f + \" Null Percentage --> {} \".format( round(  ( df[_f].isna().sum() / len(df[_f] ) * 100) ,5 )))"
      ],
      "execution_count": 303,
      "outputs": [
        {
          "output_type": "stream",
          "text": [
            "MSZoning Null Percentage --> 0.27416 \n",
            "LotFrontage Null Percentage --> 15.5586 \n",
            "Alley Null Percentage --> 92.66621 \n",
            "Utilities Null Percentage --> 0.13708 \n",
            "Exterior1st Null Percentage --> 0.06854 \n",
            "Exterior2nd Null Percentage --> 0.06854 \n",
            "MasVnrType Null Percentage --> 1.09664 \n",
            "MasVnrArea Null Percentage --> 1.0281 \n",
            "BsmtQual Null Percentage --> 3.01576 \n",
            "BsmtCond Null Percentage --> 3.0843 \n",
            "BsmtExposure Null Percentage --> 3.01576 \n",
            "BsmtFinType1 Null Percentage --> 2.87868 \n",
            "BsmtFinSF1 Null Percentage --> 0.06854 \n",
            "BsmtFinType2 Null Percentage --> 2.87868 \n",
            "BsmtFinSF2 Null Percentage --> 0.06854 \n",
            "BsmtUnfSF Null Percentage --> 0.06854 \n",
            "TotalBsmtSF Null Percentage --> 0.06854 \n",
            "BsmtFullBath Null Percentage --> 0.13708 \n",
            "BsmtHalfBath Null Percentage --> 0.13708 \n",
            "KitchenQual Null Percentage --> 0.06854 \n",
            "Functional Null Percentage --> 0.13708 \n",
            "FireplaceQu Null Percentage --> 50.03427 \n",
            "GarageType Null Percentage --> 5.20905 \n",
            "GarageYrBlt Null Percentage --> 5.34613 \n",
            "GarageFinish Null Percentage --> 5.34613 \n",
            "GarageCars Null Percentage --> 0.06854 \n",
            "GarageArea Null Percentage --> 0.06854 \n",
            "GarageQual Null Percentage --> 5.34613 \n",
            "GarageCond Null Percentage --> 5.34613 \n",
            "PoolQC Null Percentage --> 99.79438 \n",
            "Fence Null Percentage --> 80.12337 \n",
            "MiscFeature Null Percentage --> 96.50446 \n",
            "SaleType Null Percentage --> 0.06854 \n"
          ],
          "name": "stdout"
        }
      ]
    },
    {
      "cell_type": "code",
      "metadata": {
        "id": "-ebAf9MGy8tL",
        "colab_type": "code",
        "colab": {}
      },
      "source": [
        "#df.shape , dfTest.shape"
      ],
      "execution_count": 0,
      "outputs": []
    },
    {
      "cell_type": "code",
      "metadata": {
        "id": "xCe9zX__d5Qz",
        "colab_type": "code",
        "colab": {}
      },
      "source": [
        ""
      ],
      "execution_count": 0,
      "outputs": []
    },
    {
      "cell_type": "code",
      "metadata": {
        "id": "mD3ahvu9xj80",
        "colab_type": "code",
        "outputId": "b742f128-4c1b-40ac-dba8-c900468d64e8",
        "colab": {
          "base_uri": "https://localhost:8080/",
          "height": 34
        }
      },
      "source": [
        "#NA --> No Alley Access\n",
        "df['MSZoning']=df['MSZoning'].fillna(df[\"MSZoning\"].mode()[0])\n",
        "df[\"Exterior1st\"]=df[\"Exterior1st\"].fillna(\"Other\")\n",
        "df[\"Exterior2nd\"]=df[\"Exterior2nd\"].fillna(\"Other\")\n",
        "df[\"GarageArea\"]=df[\"GarageArea\"].fillna(0.0)\n",
        "df[\"SaleType\"]=df[\"SaleType\"].fillna(\"Oth\")\n",
        "df[\"Utilities\"]=df[\"Utilities\"].fillna(\"AllPub\")\n",
        "df[\"GarageCars\"]=df[\"GarageCars\"].fillna(0.0)\n",
        "df[\"Functional\"]=df[\"Functional\"].fillna(\"Typ\")\n",
        "df.loc[:, \"Alley\"] = df.loc[:,\"Alley\"].fillna(\"None\")\n",
        "df[\"TotalBsmtSF\"]=df[\"TotalBsmtSF\"].fillna(0.0)\n",
        "df[\"KitchenQual\"]=df[\"KitchenQual\"].fillna(\"TA\")\n",
        "df[\"BsmtFinSF1\"]=df[\"BsmtFinSF1\"].fillna(0.0)\n",
        "df[\"BsmtFinSF2\"]=df[\"BsmtFinSF2\"].fillna(0.0)\n",
        "df[\"BsmtUnfSF\"]=df[\"BsmtUnfSF\"].fillna(0.0)\n",
        "#Linear feet of street connected to property\n",
        "df.loc[:, \"LotFrontage\"] = df.loc[:, \"LotFrontage\"].fillna(df[\"LotFrontage\"].median())\n",
        "#MasVnrType: Masonry veneer type NA --> None\n",
        "df.loc[:, \"MasVnrType\"] = df.loc[:, \"MasVnrType\"].fillna(\"None\")\n",
        "#MasVnrArea --> none --> No Vnr Area\n",
        "df.loc[:, \"MasVnrArea\"] = df.loc[:, \"MasVnrArea\"].fillna(0)\n",
        "#BsmtQual --> NOne --> NO Basement\n",
        "df.loc[: , \"BsmtQual\"] = df.loc[: , \"BsmtQual\"].fillna(\"NA\")\n",
        "#BsmtCond --> None --> No Basement\n",
        "df.loc[: , \"BsmtCond\"] = df.loc[: , \"BsmtCond\"].fillna(\"Na\")\n",
        "#BsmtExposure --> NOne --> No Basement\n",
        "df.loc[: , \"BsmtExposure\"] = df.loc[:, \"BsmtExposure\"].fillna(\"NA\")\n",
        "#BsmtFinType1\n",
        "df.loc[: , \"BsmtFinType1\"] = df.loc[:, \"BsmtFinType1\"].fillna(\"NA\")\n",
        "#BsmtFinType2\n",
        "df.loc[: , \"BsmtFinType2\"] = df.loc[:, \"BsmtFinType2\"].fillna(\"NA\")\n",
        "df[\"BsmtFullBath\"]=df[\"BsmtFullBath\"].fillna(0.0)\n",
        "df[\"BsmtHalfBath\"]=df[\"BsmtHalfBath\"].fillna(0.0)\n",
        "#FireplaceQu\n",
        "df.loc[: , \"FireplaceQu\"] = df.loc[: ,\"FireplaceQu\"].fillna(\"NA\")\n",
        "#GarageType\n",
        "df[\"GarageType\"]=df[\"GarageType\"].fillna(\"NA\")\n",
        "#GarageYrBlt\n",
        "df[\"GarageYrBlt\"]=df[\"GarageYrBlt\"].fillna(0)\n",
        "#GarageFinish\n",
        "df[\"GarageFinish\"]=df[\"GarageFinish\"].fillna(\"NA\")\n",
        "#GarageQual\n",
        "df[\"GarageQual\"]=df[\"GarageQual\"].fillna(\"NA\")\n",
        "#GarageCond\n",
        "df[\"GarageCond\"]=df[\"GarageCond\"].fillna(\"NA\")\n",
        "#PoolQC\n",
        "df[\"PoolQC\"]=df[\"PoolQC\"].fillna(\"NA\")\n",
        "#Fence\n",
        "df[\"Fence\"]= df[\"Fence\"].fillna(\"NA\")\n",
        "#Misc\n",
        "df[\"Electrical\"]=df[\"Electrical\"].fillna(\"Mix\")\n",
        "df[\"MiscFeature\"]=df[\"MiscFeature\"].fillna(\"NA\")\n",
        "df.isna().sum().sum()"
      ],
      "execution_count": 305,
      "outputs": [
        {
          "output_type": "execute_result",
          "data": {
            "text/plain": [
              "0"
            ]
          },
          "metadata": {
            "tags": []
          },
          "execution_count": 305
        }
      ]
    },
    {
      "cell_type": "code",
      "metadata": {
        "id": "6FMDEPtm8Phs",
        "colab_type": "code",
        "colab": {}
      },
      "source": [
        "skewed_features=['LotFrontage', 'LotArea', '1stFlrSF', 'GrLivArea' ]\n",
        "for feature in skewed_features:\n",
        "  df[feature]=np.log(df[feature])"
      ],
      "execution_count": 0,
      "outputs": []
    },
    {
      "cell_type": "code",
      "metadata": {
        "id": "0Z9SuvoocgEs",
        "colab_type": "code",
        "outputId": "60dfa81f-d996-4210-e8ca-461172931ae4",
        "colab": {
          "base_uri": "https://localhost:8080/",
          "height": 816
        }
      },
      "source": [
        "All_numeric=[feature for feature in df.columns if feature not in categorical_val]\n",
        "Date_Var=[Feature for Feature in All_numeric if (\"Yr\" in Feature or \"Year\" in Feature) ] \n",
        "Discrete_var=[Feature for Feature in All_numeric if (   df[Feature].nunique() < 25  and Feature not in Date_Var + [\"Id\"] )  ]\n",
        "Continues_var=[Feature for Feature in All_numeric if ( Feature not in Discrete_var + Date_Var + [\"Id\"] ) ]\n",
        "\n",
        "for _f in Date_Var:\n",
        "  print(_f,df[_f].nunique())\n",
        "print(\"Len --> \",len(Date_Var))  \n",
        "print(\"\\n\\n\")  \n",
        "\n",
        "for _f in Discrete_var:\n",
        "  print(_f ,df[_f].nunique())\n",
        "\n",
        "print(\"Len --> \",len(Discrete_var))\n",
        "print(\"\\n\\n\")  \n",
        "\n",
        "for _f in Continues_var:\n",
        "  print(_f,df[_f].nunique())                                                        \n",
        "print(\"Len --> \",len(Continues_var))"
      ],
      "execution_count": 307,
      "outputs": [
        {
          "output_type": "stream",
          "text": [
            "YearBuilt 106\n",
            "YearRemodAdd 61\n",
            "GarageYrBlt 98\n",
            "YrSold 5\n",
            "Len -->  4\n",
            "\n",
            "\n",
            "\n",
            "MSSubClass 16\n",
            "Street 2\n",
            "Utilities 1\n",
            "OverallQual 10\n",
            "OverallCond 9\n",
            "LowQualFinSF 15\n",
            "BsmtFullBath 4\n",
            "BsmtHalfBath 3\n",
            "FullBath 5\n",
            "HalfBath 3\n",
            "BedroomAbvGr 7\n",
            "KitchenAbvGr 3\n",
            "TotRmsAbvGrd 12\n",
            "Fireplaces 5\n",
            "GarageCars 6\n",
            "3SsnPorch 13\n",
            "PoolArea 7\n",
            "MoSold 12\n",
            "Len -->  18\n",
            "\n",
            "\n",
            "\n",
            "LotFrontage 115\n",
            "LotArea 1106\n",
            "MasVnrArea 303\n",
            "BsmtFinSF1 669\n",
            "BsmtFinSF2 161\n",
            "BsmtUnfSF 793\n",
            "TotalBsmtSF 736\n",
            "1stFlrSF 789\n",
            "2ndFlrSF 407\n",
            "GrLivArea 879\n",
            "GarageArea 459\n",
            "WoodDeckSF 263\n",
            "OpenPorchSF 203\n",
            "EnclosedPorch 131\n",
            "ScreenPorch 75\n",
            "MiscVal 26\n",
            "Len -->  16\n"
          ],
          "name": "stdout"
        }
      ]
    },
    {
      "cell_type": "code",
      "metadata": {
        "id": "nDc4vjnqjhCk",
        "colab_type": "code",
        "colab": {}
      },
      "source": [
        "## Feature engineering By Me Ajg Start from categorical\n",
        "## 1St and 2nd needs to be deleted\n",
        "df[\"HasPool\"]=df[\"PoolArea\"].apply(lambda x : 1 if x > 1 else 0)\n",
        "df[\"Has3SsnPorch\"]=df[\"3SsnPorch\"].apply(lambda x : 1 if x > 1 else 0)\n",
        "df[\"PavedDrive\"].replace({\"Y\":1,\"P\":2,\"N\":3})\n",
        "df[\"GarageCond\"].replace({\"NA\" : 0 ,\"Po\" : 1 ,\"Fa\" :2 , \"TA\" :2 ,\"Gd\" : 3,\"Ex\" : 4 })\n",
        "df[\"GarageQual\"].replace({\"NA\" : 0 ,\"Po\" : 1 ,\"Fa\" :2 , \"TA\" :2 ,\"Gd\" :3 ,\"Ex\" :4})\n",
        "df[\"HasFirePlace\"]=df[\"Fireplaces\"].apply(lambda x : 1 if x > 1 else 0)\n",
        "df[\"FireplaceQu\"].replace({\"NA\" : 0 ,\"TA\" : 1, \"Gd\" : 2 , \"Ex\" :3 })\n",
        "df[\"Functional\"].replace({\"Typ\" : 0 , \"Min1\" : 1 ,\"Min2\" : 1,\"Mod\" : 2,\n",
        "                          \"Maj1\" : 3, \"Maj2\" : 3,\"Sev\" : 4 ,\"Sal\" : 5} )\n",
        "df[\"KitchenQual\"].replace({\"Po\" : 1 , \"Fa\": 2 ,\"TA\" : 2 ,\"Gd\" : 3 ,\"Ex\":4}) \n",
        "\n",
        "df[\"HasGrLivArea\"] = df[\"GrLivArea\"].apply(lambda x : 1 if x > 1 else 0)\n",
        "df[\"Has2ndFloor\"] = df[\"2ndFlrSF\"].apply(lambda x : 1 if x > 1 else 0)\n",
        "df[\"TotalBathRooms\"] = df[\"FullBath\"] + ( 0.5 * df[\"HalfBath\"] )\n",
        "df[\"TotalBsmtRoomsBath\"] = df[\"BsmtFullBath\"] + ( 0.5 * df[\"BsmtHalfBath\"] )\n",
        "df[\"TotalRooms\"] = df[\"TotRmsAbvGrd\"] + df[\"TotalBathRooms\"] + df[\"TotalBsmtRoomsBath\"]\n",
        "df[\"HeatingQC\"].replace({\"Po\" : 1 , \"Fa\": 2 ,\"TA\" : 2 ,\"Gd\" : 3 ,\"Ex\":4})\n",
        "\n",
        "df[\"BsmtFinType2\"].replace({\"NA\" : 0 , \"Unf\" : 1 , \"LwQ\" : 1 ,\"Rec\" : 2 ,\"BLQ\" :2 ,\"ALQ\" :3 , \"GLQ\" : 4    })\n",
        "df[\"BsmtFinType1\"].replace({\"NA\" : 0 , \"Unf\" : 1 , \"LwQ\" : 1 ,\"Rec\" : 2 ,\"BLQ\" :2 ,\"ALQ\" :3 , \"GLQ\" : 4    })\n",
        "df[\"BsmtExposure\"].replace({\"NA\" : 0 , \"No\" : 1 , \"Mn\"  : 2 , \"Av\" : 3 , \"Gd\" : 3 })\n",
        "df[\"BsmtCond\"].replace({\"NA\" : 0 ,\"Po\" : 1 ,\"Fa\" :2 , \"TA\" :2 ,\"Gd\" : 3,\"Ex\" : 4 })\n",
        "df[\"BsmtQual\"].replace({\"NA\" : 0 ,\"Po\" : 1 ,\"Fa\" :2 , \"TA\" :2 ,\"Gd\" : 3,\"Ex\" : 4 })\n",
        "df[\"HasBsmt\"]=df[\"TotalBsmtSF\"].apply(lambda x : 1 if x > 1 else 0)\n",
        "df[\"ExterCond\"].replace({\"NA\" : 0 ,\"Po\" : 1 ,\"Fa\" :2 , \"TA\" :2 ,\"Gd\" : 3,\"Ex\" : 4 })\n",
        "df[\"ExterQual\"].replace({\"NA\" : 0 ,\"Po\" : 1 ,\"Fa\" :2 , \"TA\" :2 ,\"Gd\" : 3,\"Ex\" : 4 })\n",
        "df[\"OverallCond\"].replace({ 1 : 1 , 2: 1,\n",
        "                            3 : 2 , 4 : 2,\n",
        "                            5 : 3 , 6 :3 ,\n",
        "                            7 : 4 , 8 : 4,\n",
        "                            9 : 5 , 10 : 5})\n",
        "df[\"OverallQual\"].replace({ 1 : 1 , 2: 1,\n",
        "                            3 : 2 , 4 : 2,\n",
        "                            5 : 3 , 6 :3 ,\n",
        "                            7 : 4 , 8 : 4,\n",
        "                            9 : 5 , 10 : 5})\n",
        "df[\"LandSlope\"].replace({\"Gtl\" :1 , \"Mod\" : 2 , \"Sev\" : 3})\n",
        "df[\"LotShape\"].replace({\"Reg\" : 1 ,\"IR1\":2 , \"IR2\" :3 , \"IR3\" :4})\n",
        "df[\"BuildingAge\"] = df[\"YrSold\"] - df[\"YearBuilt\"]\n",
        "df[\"HasGarage\"] =df[\"GarageArea\"].apply(lambda x : 1 if x > 1 else 0)\n",
        "df[\"HasVnrArea\"]=df[\"MasVnrArea\"].apply(lambda x : 1 if x > 1 else 0)\n",
        "df[\"HasWoodDeck\"]=df[\"WoodDeckSF\"].apply(lambda x : 1 if x > 1 else 0)\n",
        "df[\"HasOpenPorch\"]=df[\"OpenPorchSF\"].apply(lambda x : 1 if x > 1 else 0)\n",
        "df[\"HasEnclosedPorch\"]=df[\"EnclosedPorch\"].apply(lambda x : 1 if x >1 else 0)\n",
        "df[\"HasScreenPorch\"]=df[\"ScreenPorch\"].apply(lambda x : 1 if x > 1 else 0)\n",
        "df[\"MiscFeature\"].replace({\"NA\" : 0 ,\"TenC\" : 1 , \"Shed\" :2 ,\"Othr\" : 3, \"Gar2\" :4 ,\"Elev\":5})\n",
        "\n",
        "df.drop(inplace=True,labels=[\"LowQualFinSF\",\"BsmtFinSF1\", \"BsmtFinSF2\" , \"BsmtUnfSF\" , \"Utilities\" , \"Street\" , \"GarageYrBlt\" ],axis=1)"
      ],
      "execution_count": 0,
      "outputs": []
    },
    {
      "cell_type": "code",
      "metadata": {
        "id": "HJShrggk6sBb",
        "colab_type": "code",
        "colab": {}
      },
      "source": [
        ""
      ],
      "execution_count": 0,
      "outputs": []
    },
    {
      "cell_type": "code",
      "metadata": {
        "id": "2Ki6iRjOwmet",
        "colab_type": "code",
        "colab": {}
      },
      "source": [
        "#df.groupby(\"MiscFeature\")[\"SalePrice\"].median().plot.bar()"
      ],
      "execution_count": 0,
      "outputs": []
    },
    {
      "cell_type": "code",
      "metadata": {
        "id": "pADqrNbG_Z0z",
        "colab_type": "code",
        "colab": {}
      },
      "source": [
        ""
      ],
      "execution_count": 0,
      "outputs": []
    },
    {
      "cell_type": "code",
      "metadata": {
        "id": "ffSIsEdM3WeX",
        "colab_type": "code",
        "colab": {}
      },
      "source": [
        ""
      ],
      "execution_count": 0,
      "outputs": []
    },
    {
      "cell_type": "code",
      "metadata": {
        "id": "npd1Ia_Z_-An",
        "colab_type": "code",
        "colab": {
          "base_uri": "https://localhost:8080/",
          "height": 34
        },
        "outputId": "1b457071-d8ff-47e9-9348-638b0841c29a"
      },
      "source": [
        "df.shape"
      ],
      "execution_count": 310,
      "outputs": [
        {
          "output_type": "execute_result",
          "data": {
            "text/plain": [
              "(1459, 88)"
            ]
          },
          "metadata": {
            "tags": []
          },
          "execution_count": 310
        }
      ]
    },
    {
      "cell_type": "code",
      "metadata": {
        "id": "NFYIaoGv5mrb",
        "colab_type": "code",
        "colab": {}
      },
      "source": [
        ""
      ],
      "execution_count": 0,
      "outputs": []
    },
    {
      "cell_type": "code",
      "metadata": {
        "id": "syr63pgzfDYn",
        "colab_type": "code",
        "colab": {
          "base_uri": "https://localhost:8080/",
          "height": 34
        },
        "outputId": "f828f06e-6cc5-493a-84a0-0fc83654bc78"
      },
      "source": [
        "df.shape"
      ],
      "execution_count": 311,
      "outputs": [
        {
          "output_type": "execute_result",
          "data": {
            "text/plain": [
              "(1459, 88)"
            ]
          },
          "metadata": {
            "tags": []
          },
          "execution_count": 311
        }
      ]
    },
    {
      "cell_type": "code",
      "metadata": {
        "id": "CvEu7R-K6e9A",
        "colab_type": "code",
        "colab": {}
      },
      "source": [
        "# print(\"Find most important features relative to target\")\n",
        "# corr = df.corr()\n",
        "# corr.sort_values([\"SalePrice\"], ascending = False, inplace = True)\n",
        "# print(corr.SalePrice)"
      ],
      "execution_count": 0,
      "outputs": []
    },
    {
      "cell_type": "code",
      "metadata": {
        "id": "Dp6dGj-A9c4Y",
        "colab_type": "code",
        "colab": {}
      },
      "source": [
        ""
      ],
      "execution_count": 0,
      "outputs": []
    },
    {
      "cell_type": "code",
      "metadata": {
        "id": "FuEwE196fWma",
        "colab_type": "code",
        "colab": {}
      },
      "source": [
        "## Use the difference between yearsold with the year build and ect"
      ],
      "execution_count": 0,
      "outputs": []
    },
    {
      "cell_type": "code",
      "metadata": {
        "id": "cdcw76ongQ9F",
        "colab_type": "code",
        "colab": {
          "base_uri": "https://localhost:8080/",
          "height": 34
        },
        "outputId": "29d50006-9e7b-4d6d-d67c-c1275d1fc4c1"
      },
      "source": [
        "df.shape"
      ],
      "execution_count": 314,
      "outputs": [
        {
          "output_type": "execute_result",
          "data": {
            "text/plain": [
              "(1459, 88)"
            ]
          },
          "metadata": {
            "tags": []
          },
          "execution_count": 314
        }
      ]
    },
    {
      "cell_type": "code",
      "metadata": {
        "id": "gFmG2Gn5g8xn",
        "colab_type": "code",
        "colab": {
          "base_uri": "https://localhost:8080/",
          "height": 54
        },
        "outputId": "db43f4e6-f736-464e-bedf-87a775f78045"
      },
      "source": [
        "categorical_val=[feature for feature in df.columns if df[feature].dtypes == \"O\"]\n",
        "# for _feature in categorical_val:\n",
        "#   value=df.groupby(_feature)[\"SalePrice\"].count() /len(df)\n",
        "#   temp=value[value > 0.01].index\n",
        "#   df[_feature]=np.where(df[_feature].isin(temp),df[_feature],\"Rare\")\n",
        "len(categorical_val)\n",
        "print(categorical_val)"
      ],
      "execution_count": 315,
      "outputs": [
        {
          "output_type": "stream",
          "text": [
            "['MSZoning', 'Alley', 'LotShape', 'LandContour', 'LotConfig', 'LandSlope', 'Neighborhood', 'Condition1', 'Condition2', 'BldgType', 'HouseStyle', 'RoofStyle', 'RoofMatl', 'Exterior1st', 'Exterior2nd', 'MasVnrType', 'ExterQual', 'ExterCond', 'Foundation', 'BsmtQual', 'BsmtCond', 'BsmtExposure', 'BsmtFinType1', 'BsmtFinType2', 'Heating', 'HeatingQC', 'CentralAir', 'Electrical', 'KitchenQual', 'Functional', 'FireplaceQu', 'GarageType', 'GarageFinish', 'GarageQual', 'GarageCond', 'PavedDrive', 'PoolQC', 'Fence', 'MiscFeature', 'SaleType', 'SaleCondition']\n"
          ],
          "name": "stdout"
        }
      ]
    },
    {
      "cell_type": "code",
      "metadata": {
        "id": "aAWBXNJLhw-y",
        "colab_type": "code",
        "colab": {}
      },
      "source": [
        "# ## Turn It To Dummies --> \n",
        "# TransDummies=pd.get_dummies(data=df[categorical_val],drop_first=True)\n",
        "# print(TransDummies.shape)\n",
        "# df.drop(categorical_val,axis=1,inplace=True)\n",
        "# dfs=pd.concat(objs=[df,TransDummies],axis=1)\n",
        "# dfs.shape"
      ],
      "execution_count": 0,
      "outputs": []
    },
    {
      "cell_type": "code",
      "metadata": {
        "id": "rGlaEr5Kj0Kq",
        "colab_type": "code",
        "colab": {
          "base_uri": "https://localhost:8080/",
          "height": 224
        },
        "outputId": "8ce75f26-319f-4ec0-fbd1-d33e11db1cd8"
      },
      "source": [
        " categorical_val=[feature for feature in df.columns if df[feature].dtypes == \"O\"]\n",
        " ## Turn it to codes\n",
        " for labels,content in df[categorical_val].items():\n",
        "  df[labels]=pd.Categorical(content).codes\n",
        "df.head()  \n"
      ],
      "execution_count": 317,
      "outputs": [
        {
          "output_type": "execute_result",
          "data": {
            "text/html": [
              "<div>\n",
              "<style scoped>\n",
              "    .dataframe tbody tr th:only-of-type {\n",
              "        vertical-align: middle;\n",
              "    }\n",
              "\n",
              "    .dataframe tbody tr th {\n",
              "        vertical-align: top;\n",
              "    }\n",
              "\n",
              "    .dataframe thead th {\n",
              "        text-align: right;\n",
              "    }\n",
              "</style>\n",
              "<table border=\"1\" class=\"dataframe\">\n",
              "  <thead>\n",
              "    <tr style=\"text-align: right;\">\n",
              "      <th></th>\n",
              "      <th>MSSubClass</th>\n",
              "      <th>MSZoning</th>\n",
              "      <th>LotFrontage</th>\n",
              "      <th>LotArea</th>\n",
              "      <th>Alley</th>\n",
              "      <th>LotShape</th>\n",
              "      <th>LandContour</th>\n",
              "      <th>LotConfig</th>\n",
              "      <th>LandSlope</th>\n",
              "      <th>Neighborhood</th>\n",
              "      <th>Condition1</th>\n",
              "      <th>Condition2</th>\n",
              "      <th>BldgType</th>\n",
              "      <th>HouseStyle</th>\n",
              "      <th>OverallQual</th>\n",
              "      <th>OverallCond</th>\n",
              "      <th>YearBuilt</th>\n",
              "      <th>YearRemodAdd</th>\n",
              "      <th>RoofStyle</th>\n",
              "      <th>RoofMatl</th>\n",
              "      <th>Exterior1st</th>\n",
              "      <th>Exterior2nd</th>\n",
              "      <th>MasVnrType</th>\n",
              "      <th>MasVnrArea</th>\n",
              "      <th>ExterQual</th>\n",
              "      <th>ExterCond</th>\n",
              "      <th>Foundation</th>\n",
              "      <th>BsmtQual</th>\n",
              "      <th>BsmtCond</th>\n",
              "      <th>BsmtExposure</th>\n",
              "      <th>BsmtFinType1</th>\n",
              "      <th>BsmtFinType2</th>\n",
              "      <th>TotalBsmtSF</th>\n",
              "      <th>Heating</th>\n",
              "      <th>HeatingQC</th>\n",
              "      <th>CentralAir</th>\n",
              "      <th>Electrical</th>\n",
              "      <th>1stFlrSF</th>\n",
              "      <th>2ndFlrSF</th>\n",
              "      <th>GrLivArea</th>\n",
              "      <th>BsmtFullBath</th>\n",
              "      <th>BsmtHalfBath</th>\n",
              "      <th>FullBath</th>\n",
              "      <th>HalfBath</th>\n",
              "      <th>BedroomAbvGr</th>\n",
              "      <th>KitchenAbvGr</th>\n",
              "      <th>KitchenQual</th>\n",
              "      <th>TotRmsAbvGrd</th>\n",
              "      <th>Functional</th>\n",
              "      <th>Fireplaces</th>\n",
              "      <th>FireplaceQu</th>\n",
              "      <th>GarageType</th>\n",
              "      <th>GarageFinish</th>\n",
              "      <th>GarageCars</th>\n",
              "      <th>GarageArea</th>\n",
              "      <th>GarageQual</th>\n",
              "      <th>GarageCond</th>\n",
              "      <th>PavedDrive</th>\n",
              "      <th>WoodDeckSF</th>\n",
              "      <th>OpenPorchSF</th>\n",
              "      <th>EnclosedPorch</th>\n",
              "      <th>3SsnPorch</th>\n",
              "      <th>ScreenPorch</th>\n",
              "      <th>PoolArea</th>\n",
              "      <th>PoolQC</th>\n",
              "      <th>Fence</th>\n",
              "      <th>MiscFeature</th>\n",
              "      <th>MiscVal</th>\n",
              "      <th>MoSold</th>\n",
              "      <th>YrSold</th>\n",
              "      <th>SaleType</th>\n",
              "      <th>SaleCondition</th>\n",
              "      <th>HasPool</th>\n",
              "      <th>Has3SsnPorch</th>\n",
              "      <th>HasFirePlace</th>\n",
              "      <th>HasGrLivArea</th>\n",
              "      <th>Has2ndFloor</th>\n",
              "      <th>TotalBathRooms</th>\n",
              "      <th>TotalBsmtRoomsBath</th>\n",
              "      <th>TotalRooms</th>\n",
              "      <th>HasBsmt</th>\n",
              "      <th>BuildingAge</th>\n",
              "      <th>HasGarage</th>\n",
              "      <th>HasVnrArea</th>\n",
              "      <th>HasWoodDeck</th>\n",
              "      <th>HasOpenPorch</th>\n",
              "      <th>HasEnclosedPorch</th>\n",
              "      <th>HasScreenPorch</th>\n",
              "    </tr>\n",
              "  </thead>\n",
              "  <tbody>\n",
              "    <tr>\n",
              "      <th>0</th>\n",
              "      <td>20</td>\n",
              "      <td>2</td>\n",
              "      <td>4.382027</td>\n",
              "      <td>9.360655</td>\n",
              "      <td>1</td>\n",
              "      <td>3</td>\n",
              "      <td>3</td>\n",
              "      <td>4</td>\n",
              "      <td>0</td>\n",
              "      <td>12</td>\n",
              "      <td>1</td>\n",
              "      <td>2</td>\n",
              "      <td>0</td>\n",
              "      <td>2</td>\n",
              "      <td>5</td>\n",
              "      <td>6</td>\n",
              "      <td>1961</td>\n",
              "      <td>1961</td>\n",
              "      <td>1</td>\n",
              "      <td>0</td>\n",
              "      <td>11</td>\n",
              "      <td>13</td>\n",
              "      <td>2</td>\n",
              "      <td>0.0</td>\n",
              "      <td>3</td>\n",
              "      <td>4</td>\n",
              "      <td>1</td>\n",
              "      <td>4</td>\n",
              "      <td>4</td>\n",
              "      <td>4</td>\n",
              "      <td>5</td>\n",
              "      <td>3</td>\n",
              "      <td>882.0</td>\n",
              "      <td>0</td>\n",
              "      <td>4</td>\n",
              "      <td>1</td>\n",
              "      <td>3</td>\n",
              "      <td>6.797940</td>\n",
              "      <td>0</td>\n",
              "      <td>6.797940</td>\n",
              "      <td>0.0</td>\n",
              "      <td>0.0</td>\n",
              "      <td>1</td>\n",
              "      <td>0</td>\n",
              "      <td>2</td>\n",
              "      <td>1</td>\n",
              "      <td>3</td>\n",
              "      <td>5</td>\n",
              "      <td>6</td>\n",
              "      <td>0</td>\n",
              "      <td>3</td>\n",
              "      <td>1</td>\n",
              "      <td>3</td>\n",
              "      <td>1.0</td>\n",
              "      <td>730.0</td>\n",
              "      <td>4</td>\n",
              "      <td>5</td>\n",
              "      <td>2</td>\n",
              "      <td>140</td>\n",
              "      <td>0</td>\n",
              "      <td>0</td>\n",
              "      <td>0</td>\n",
              "      <td>120</td>\n",
              "      <td>0</td>\n",
              "      <td>2</td>\n",
              "      <td>2</td>\n",
              "      <td>1</td>\n",
              "      <td>0</td>\n",
              "      <td>6</td>\n",
              "      <td>2010</td>\n",
              "      <td>8</td>\n",
              "      <td>4</td>\n",
              "      <td>0</td>\n",
              "      <td>0</td>\n",
              "      <td>0</td>\n",
              "      <td>1</td>\n",
              "      <td>0</td>\n",
              "      <td>1.0</td>\n",
              "      <td>0.0</td>\n",
              "      <td>6.0</td>\n",
              "      <td>1</td>\n",
              "      <td>49</td>\n",
              "      <td>1</td>\n",
              "      <td>0</td>\n",
              "      <td>1</td>\n",
              "      <td>0</td>\n",
              "      <td>0</td>\n",
              "      <td>1</td>\n",
              "    </tr>\n",
              "    <tr>\n",
              "      <th>1</th>\n",
              "      <td>20</td>\n",
              "      <td>3</td>\n",
              "      <td>4.394449</td>\n",
              "      <td>9.565704</td>\n",
              "      <td>1</td>\n",
              "      <td>0</td>\n",
              "      <td>3</td>\n",
              "      <td>0</td>\n",
              "      <td>0</td>\n",
              "      <td>12</td>\n",
              "      <td>2</td>\n",
              "      <td>2</td>\n",
              "      <td>0</td>\n",
              "      <td>2</td>\n",
              "      <td>6</td>\n",
              "      <td>6</td>\n",
              "      <td>1958</td>\n",
              "      <td>1958</td>\n",
              "      <td>3</td>\n",
              "      <td>0</td>\n",
              "      <td>12</td>\n",
              "      <td>14</td>\n",
              "      <td>1</td>\n",
              "      <td>108.0</td>\n",
              "      <td>3</td>\n",
              "      <td>4</td>\n",
              "      <td>1</td>\n",
              "      <td>4</td>\n",
              "      <td>4</td>\n",
              "      <td>4</td>\n",
              "      <td>0</td>\n",
              "      <td>6</td>\n",
              "      <td>1329.0</td>\n",
              "      <td>0</td>\n",
              "      <td>4</td>\n",
              "      <td>1</td>\n",
              "      <td>3</td>\n",
              "      <td>7.192182</td>\n",
              "      <td>0</td>\n",
              "      <td>7.192182</td>\n",
              "      <td>0.0</td>\n",
              "      <td>0.0</td>\n",
              "      <td>1</td>\n",
              "      <td>1</td>\n",
              "      <td>3</td>\n",
              "      <td>1</td>\n",
              "      <td>2</td>\n",
              "      <td>6</td>\n",
              "      <td>6</td>\n",
              "      <td>0</td>\n",
              "      <td>3</td>\n",
              "      <td>1</td>\n",
              "      <td>3</td>\n",
              "      <td>1.0</td>\n",
              "      <td>312.0</td>\n",
              "      <td>4</td>\n",
              "      <td>5</td>\n",
              "      <td>2</td>\n",
              "      <td>393</td>\n",
              "      <td>36</td>\n",
              "      <td>0</td>\n",
              "      <td>0</td>\n",
              "      <td>0</td>\n",
              "      <td>0</td>\n",
              "      <td>2</td>\n",
              "      <td>4</td>\n",
              "      <td>0</td>\n",
              "      <td>12500</td>\n",
              "      <td>6</td>\n",
              "      <td>2010</td>\n",
              "      <td>8</td>\n",
              "      <td>4</td>\n",
              "      <td>0</td>\n",
              "      <td>0</td>\n",
              "      <td>0</td>\n",
              "      <td>1</td>\n",
              "      <td>0</td>\n",
              "      <td>1.5</td>\n",
              "      <td>0.0</td>\n",
              "      <td>7.5</td>\n",
              "      <td>1</td>\n",
              "      <td>52</td>\n",
              "      <td>1</td>\n",
              "      <td>1</td>\n",
              "      <td>1</td>\n",
              "      <td>1</td>\n",
              "      <td>0</td>\n",
              "      <td>0</td>\n",
              "    </tr>\n",
              "    <tr>\n",
              "      <th>2</th>\n",
              "      <td>60</td>\n",
              "      <td>3</td>\n",
              "      <td>4.304065</td>\n",
              "      <td>9.534595</td>\n",
              "      <td>1</td>\n",
              "      <td>0</td>\n",
              "      <td>3</td>\n",
              "      <td>4</td>\n",
              "      <td>0</td>\n",
              "      <td>8</td>\n",
              "      <td>2</td>\n",
              "      <td>2</td>\n",
              "      <td>0</td>\n",
              "      <td>4</td>\n",
              "      <td>5</td>\n",
              "      <td>5</td>\n",
              "      <td>1997</td>\n",
              "      <td>1998</td>\n",
              "      <td>1</td>\n",
              "      <td>0</td>\n",
              "      <td>11</td>\n",
              "      <td>13</td>\n",
              "      <td>2</td>\n",
              "      <td>0.0</td>\n",
              "      <td>3</td>\n",
              "      <td>4</td>\n",
              "      <td>2</td>\n",
              "      <td>2</td>\n",
              "      <td>4</td>\n",
              "      <td>4</td>\n",
              "      <td>2</td>\n",
              "      <td>6</td>\n",
              "      <td>928.0</td>\n",
              "      <td>0</td>\n",
              "      <td>2</td>\n",
              "      <td>1</td>\n",
              "      <td>3</td>\n",
              "      <td>6.833032</td>\n",
              "      <td>701</td>\n",
              "      <td>7.395722</td>\n",
              "      <td>0.0</td>\n",
              "      <td>0.0</td>\n",
              "      <td>2</td>\n",
              "      <td>1</td>\n",
              "      <td>3</td>\n",
              "      <td>1</td>\n",
              "      <td>3</td>\n",
              "      <td>6</td>\n",
              "      <td>6</td>\n",
              "      <td>1</td>\n",
              "      <td>5</td>\n",
              "      <td>1</td>\n",
              "      <td>0</td>\n",
              "      <td>2.0</td>\n",
              "      <td>482.0</td>\n",
              "      <td>4</td>\n",
              "      <td>5</td>\n",
              "      <td>2</td>\n",
              "      <td>212</td>\n",
              "      <td>34</td>\n",
              "      <td>0</td>\n",
              "      <td>0</td>\n",
              "      <td>0</td>\n",
              "      <td>0</td>\n",
              "      <td>2</td>\n",
              "      <td>2</td>\n",
              "      <td>1</td>\n",
              "      <td>0</td>\n",
              "      <td>3</td>\n",
              "      <td>2010</td>\n",
              "      <td>8</td>\n",
              "      <td>4</td>\n",
              "      <td>0</td>\n",
              "      <td>0</td>\n",
              "      <td>0</td>\n",
              "      <td>1</td>\n",
              "      <td>1</td>\n",
              "      <td>2.5</td>\n",
              "      <td>0.0</td>\n",
              "      <td>8.5</td>\n",
              "      <td>1</td>\n",
              "      <td>13</td>\n",
              "      <td>1</td>\n",
              "      <td>0</td>\n",
              "      <td>1</td>\n",
              "      <td>1</td>\n",
              "      <td>0</td>\n",
              "      <td>0</td>\n",
              "    </tr>\n",
              "    <tr>\n",
              "      <th>3</th>\n",
              "      <td>60</td>\n",
              "      <td>3</td>\n",
              "      <td>4.356709</td>\n",
              "      <td>9.208138</td>\n",
              "      <td>1</td>\n",
              "      <td>0</td>\n",
              "      <td>3</td>\n",
              "      <td>4</td>\n",
              "      <td>0</td>\n",
              "      <td>8</td>\n",
              "      <td>2</td>\n",
              "      <td>2</td>\n",
              "      <td>0</td>\n",
              "      <td>4</td>\n",
              "      <td>6</td>\n",
              "      <td>6</td>\n",
              "      <td>1998</td>\n",
              "      <td>1998</td>\n",
              "      <td>1</td>\n",
              "      <td>0</td>\n",
              "      <td>11</td>\n",
              "      <td>13</td>\n",
              "      <td>1</td>\n",
              "      <td>20.0</td>\n",
              "      <td>3</td>\n",
              "      <td>4</td>\n",
              "      <td>2</td>\n",
              "      <td>4</td>\n",
              "      <td>4</td>\n",
              "      <td>4</td>\n",
              "      <td>2</td>\n",
              "      <td>6</td>\n",
              "      <td>926.0</td>\n",
              "      <td>0</td>\n",
              "      <td>0</td>\n",
              "      <td>1</td>\n",
              "      <td>3</td>\n",
              "      <td>6.830874</td>\n",
              "      <td>678</td>\n",
              "      <td>7.380256</td>\n",
              "      <td>0.0</td>\n",
              "      <td>0.0</td>\n",
              "      <td>2</td>\n",
              "      <td>1</td>\n",
              "      <td>3</td>\n",
              "      <td>1</td>\n",
              "      <td>2</td>\n",
              "      <td>7</td>\n",
              "      <td>6</td>\n",
              "      <td>1</td>\n",
              "      <td>2</td>\n",
              "      <td>1</td>\n",
              "      <td>0</td>\n",
              "      <td>2.0</td>\n",
              "      <td>470.0</td>\n",
              "      <td>4</td>\n",
              "      <td>5</td>\n",
              "      <td>2</td>\n",
              "      <td>360</td>\n",
              "      <td>36</td>\n",
              "      <td>0</td>\n",
              "      <td>0</td>\n",
              "      <td>0</td>\n",
              "      <td>0</td>\n",
              "      <td>2</td>\n",
              "      <td>4</td>\n",
              "      <td>1</td>\n",
              "      <td>0</td>\n",
              "      <td>6</td>\n",
              "      <td>2010</td>\n",
              "      <td>8</td>\n",
              "      <td>4</td>\n",
              "      <td>0</td>\n",
              "      <td>0</td>\n",
              "      <td>0</td>\n",
              "      <td>1</td>\n",
              "      <td>1</td>\n",
              "      <td>2.5</td>\n",
              "      <td>0.0</td>\n",
              "      <td>9.5</td>\n",
              "      <td>1</td>\n",
              "      <td>12</td>\n",
              "      <td>1</td>\n",
              "      <td>1</td>\n",
              "      <td>1</td>\n",
              "      <td>1</td>\n",
              "      <td>0</td>\n",
              "      <td>0</td>\n",
              "    </tr>\n",
              "    <tr>\n",
              "      <th>4</th>\n",
              "      <td>120</td>\n",
              "      <td>3</td>\n",
              "      <td>3.761200</td>\n",
              "      <td>8.518193</td>\n",
              "      <td>1</td>\n",
              "      <td>0</td>\n",
              "      <td>1</td>\n",
              "      <td>4</td>\n",
              "      <td>0</td>\n",
              "      <td>22</td>\n",
              "      <td>2</td>\n",
              "      <td>2</td>\n",
              "      <td>4</td>\n",
              "      <td>2</td>\n",
              "      <td>8</td>\n",
              "      <td>5</td>\n",
              "      <td>1992</td>\n",
              "      <td>1992</td>\n",
              "      <td>1</td>\n",
              "      <td>0</td>\n",
              "      <td>6</td>\n",
              "      <td>6</td>\n",
              "      <td>2</td>\n",
              "      <td>0.0</td>\n",
              "      <td>2</td>\n",
              "      <td>4</td>\n",
              "      <td>2</td>\n",
              "      <td>2</td>\n",
              "      <td>4</td>\n",
              "      <td>4</td>\n",
              "      <td>0</td>\n",
              "      <td>6</td>\n",
              "      <td>1280.0</td>\n",
              "      <td>0</td>\n",
              "      <td>0</td>\n",
              "      <td>1</td>\n",
              "      <td>3</td>\n",
              "      <td>7.154615</td>\n",
              "      <td>0</td>\n",
              "      <td>7.154615</td>\n",
              "      <td>0.0</td>\n",
              "      <td>0.0</td>\n",
              "      <td>2</td>\n",
              "      <td>0</td>\n",
              "      <td>2</td>\n",
              "      <td>1</td>\n",
              "      <td>2</td>\n",
              "      <td>5</td>\n",
              "      <td>6</td>\n",
              "      <td>0</td>\n",
              "      <td>3</td>\n",
              "      <td>1</td>\n",
              "      <td>2</td>\n",
              "      <td>2.0</td>\n",
              "      <td>506.0</td>\n",
              "      <td>4</td>\n",
              "      <td>5</td>\n",
              "      <td>2</td>\n",
              "      <td>0</td>\n",
              "      <td>82</td>\n",
              "      <td>0</td>\n",
              "      <td>0</td>\n",
              "      <td>144</td>\n",
              "      <td>0</td>\n",
              "      <td>2</td>\n",
              "      <td>4</td>\n",
              "      <td>1</td>\n",
              "      <td>0</td>\n",
              "      <td>1</td>\n",
              "      <td>2010</td>\n",
              "      <td>8</td>\n",
              "      <td>4</td>\n",
              "      <td>0</td>\n",
              "      <td>0</td>\n",
              "      <td>0</td>\n",
              "      <td>1</td>\n",
              "      <td>0</td>\n",
              "      <td>2.0</td>\n",
              "      <td>0.0</td>\n",
              "      <td>7.0</td>\n",
              "      <td>1</td>\n",
              "      <td>18</td>\n",
              "      <td>1</td>\n",
              "      <td>0</td>\n",
              "      <td>0</td>\n",
              "      <td>1</td>\n",
              "      <td>0</td>\n",
              "      <td>1</td>\n",
              "    </tr>\n",
              "  </tbody>\n",
              "</table>\n",
              "</div>"
            ],
            "text/plain": [
              "   MSSubClass  MSZoning  LotFrontage   LotArea  Alley  LotShape  LandContour  LotConfig  LandSlope  Neighborhood  Condition1  Condition2  BldgType  HouseStyle  OverallQual  OverallCond  YearBuilt  YearRemodAdd  RoofStyle  RoofMatl  Exterior1st  Exterior2nd  MasVnrType  MasVnrArea  ExterQual  ExterCond  Foundation  BsmtQual  BsmtCond  BsmtExposure  BsmtFinType1  BsmtFinType2  TotalBsmtSF  Heating  HeatingQC  CentralAir  Electrical  1stFlrSF  2ndFlrSF  GrLivArea  BsmtFullBath  BsmtHalfBath  FullBath  HalfBath  BedroomAbvGr  KitchenAbvGr  KitchenQual  TotRmsAbvGrd  Functional  Fireplaces  FireplaceQu  GarageType  GarageFinish  GarageCars  GarageArea  GarageQual  GarageCond  PavedDrive  WoodDeckSF  OpenPorchSF  EnclosedPorch  3SsnPorch  ScreenPorch  PoolArea  PoolQC  Fence  MiscFeature  MiscVal  MoSold  YrSold  SaleType  SaleCondition  HasPool  Has3SsnPorch  HasFirePlace  HasGrLivArea  Has2ndFloor  TotalBathRooms  TotalBsmtRoomsBath  TotalRooms  HasBsmt  BuildingAge  HasGarage  HasVnrArea  HasWoodDeck  HasOpenPorch  HasEnclosedPorch  HasScreenPorch\n",
              "0          20         2     4.382027  9.360655      1         3            3          4          0            12           1           2         0           2            5            6       1961          1961          1         0           11           13           2         0.0          3          4           1         4         4             4             5             3        882.0        0          4           1           3  6.797940         0   6.797940           0.0           0.0         1         0             2             1            3             5           6           0            3           1             3         1.0       730.0           4           5           2         140            0              0          0          120         0       2      2            1        0       6    2010         8              4        0             0             0             1            0             1.0                 0.0         6.0        1           49          1           0            1             0                 0               1\n",
              "1          20         3     4.394449  9.565704      1         0            3          0          0            12           2           2         0           2            6            6       1958          1958          3         0           12           14           1       108.0          3          4           1         4         4             4             0             6       1329.0        0          4           1           3  7.192182         0   7.192182           0.0           0.0         1         1             3             1            2             6           6           0            3           1             3         1.0       312.0           4           5           2         393           36              0          0            0         0       2      4            0    12500       6    2010         8              4        0             0             0             1            0             1.5                 0.0         7.5        1           52          1           1            1             1                 0               0\n",
              "2          60         3     4.304065  9.534595      1         0            3          4          0             8           2           2         0           4            5            5       1997          1998          1         0           11           13           2         0.0          3          4           2         2         4             4             2             6        928.0        0          2           1           3  6.833032       701   7.395722           0.0           0.0         2         1             3             1            3             6           6           1            5           1             0         2.0       482.0           4           5           2         212           34              0          0            0         0       2      2            1        0       3    2010         8              4        0             0             0             1            1             2.5                 0.0         8.5        1           13          1           0            1             1                 0               0\n",
              "3          60         3     4.356709  9.208138      1         0            3          4          0             8           2           2         0           4            6            6       1998          1998          1         0           11           13           1        20.0          3          4           2         4         4             4             2             6        926.0        0          0           1           3  6.830874       678   7.380256           0.0           0.0         2         1             3             1            2             7           6           1            2           1             0         2.0       470.0           4           5           2         360           36              0          0            0         0       2      4            1        0       6    2010         8              4        0             0             0             1            1             2.5                 0.0         9.5        1           12          1           1            1             1                 0               0\n",
              "4         120         3     3.761200  8.518193      1         0            1          4          0            22           2           2         4           2            8            5       1992          1992          1         0            6            6           2         0.0          2          4           2         2         4             4             0             6       1280.0        0          0           1           3  7.154615         0   7.154615           0.0           0.0         2         0             2             1            2             5           6           0            3           1             2         2.0       506.0           4           5           2           0           82              0          0          144         0       2      4            1        0       1    2010         8              4        0             0             0             1            0             2.0                 0.0         7.0        1           18          1           0            0             1                 0               1"
            ]
          },
          "metadata": {
            "tags": []
          },
          "execution_count": 317
        }
      ]
    },
    {
      "cell_type": "code",
      "metadata": {
        "id": "Axp6OZi_leqr",
        "colab_type": "code",
        "colab": {
          "base_uri": "https://localhost:8080/",
          "height": 34
        },
        "outputId": "5abab5eb-e190-46e5-b802-1472ab631b77"
      },
      "source": [
        "Scale_features=[feature for feature in df.columns if feature not in skewed_features ]\n",
        "len(Scale_features)"
      ],
      "execution_count": 318,
      "outputs": [
        {
          "output_type": "execute_result",
          "data": {
            "text/plain": [
              "84"
            ]
          },
          "metadata": {
            "tags": []
          },
          "execution_count": 318
        }
      ]
    },
    {
      "cell_type": "code",
      "metadata": {
        "id": "CNw4p7vAlvGF",
        "colab_type": "code",
        "colab": {}
      },
      "source": [
        "# data=dfs.copy()\n",
        "# from sklearn.preprocessing import StandardScaler\n",
        "# data[Scale_features]=StandardScaler().fit_transform(data[Scale_features])\n",
        "# data.head()\n",
        "# data.to_csv(\"/content/drive/My Drive/DataCsvAnalisis/Advanced.csv\")"
      ],
      "execution_count": 0,
      "outputs": []
    },
    {
      "cell_type": "code",
      "metadata": {
        "id": "k2EuAutCopiA",
        "colab_type": "code",
        "colab": {}
      },
      "source": [
        "data=df.copy()\n",
        "from sklearn.preprocessing import MinMaxScaler\n",
        "data[Scale_features]=MinMaxScaler().fit_transform(data[Scale_features])\n",
        "data.head()\n",
        "data.to_csv(\"/content/drive/My Drive/DataCsvAnalisis/AdvancedMinMaxFinal.csv\")"
      ],
      "execution_count": 0,
      "outputs": []
    },
    {
      "cell_type": "code",
      "metadata": {
        "id": "Q_E19bBouPIy",
        "colab_type": "code",
        "colab": {
          "base_uri": "https://localhost:8080/",
          "height": 34
        },
        "outputId": "8422922f-18f7-4b09-b7b7-80f44e8c4748"
      },
      "source": [
        "pd.set_option('display.expand_frame_repr', False)\n",
        "pd.set_option('display.max_rows', None)\n",
        "data.shape"
      ],
      "execution_count": 321,
      "outputs": [
        {
          "output_type": "execute_result",
          "data": {
            "text/plain": [
              "(1459, 88)"
            ]
          },
          "metadata": {
            "tags": []
          },
          "execution_count": 321
        }
      ]
    }
  ]
}