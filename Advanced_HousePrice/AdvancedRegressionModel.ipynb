{
 "cells": [
  {
   "cell_type": "code",
   "execution_count": 1,
   "metadata": {
    "colab": {
     "base_uri": "https://localhost:8080/",
     "height": 54
    },
    "colab_type": "code",
    "id": "xT8g_4YEqUEG",
    "outputId": "acfa1739-0ad8-4948-e4c8-0c764a024478"
   },
   "outputs": [],
   "source": [
    "#from google.colab import drive\n",
    "#drive.mount(\"/content/drive\")"
   ]
  },
  {
   "cell_type": "code",
   "execution_count": 2,
   "metadata": {
    "colab": {},
    "colab_type": "code",
    "id": "CHO5xniIqzQi"
   },
   "outputs": [],
   "source": [
    "import numpy as np\n",
    "import pandas as pd\n",
    "from sklearn.model_selection import GridSearchCV,KFold,train_test_split\n",
    "from sklearn.metrics import mean_squared_log_error,mean_squared_error\n",
    "from sklearn.feature_selection import  SelectFromModel\n",
    "from sklearn.ensemble import RandomForestRegressor\n",
    "from sklearn.svm import SVR\n",
    "from sklearn.linear_model import Lasso"
   ]
  },
  {
   "cell_type": "code",
   "execution_count": 3,
   "metadata": {
    "colab": {
     "base_uri": "https://localhost:8080/",
     "height": 34
    },
    "colab_type": "code",
    "id": "orXCleCnr0xS",
    "outputId": "dbab09cf-855f-48d0-a502-cd1294fdcd9f"
   },
   "outputs": [
    {
     "data": {
      "text/plain": [
       "((1459, 89), (1460, 90))"
      ]
     },
     "execution_count": 3,
     "metadata": {},
     "output_type": "execute_result"
    }
   ],
   "source": [
    "#data_StandardScaler=pd.read_csv(\"Advanced.csv\")\n",
    "data_MinMaxScaler=pd.read_csv(\"AdvancedMinMax.csv\")\n",
    "test_set=pd.read_csv(\"AdvancedMinMaxFinal.csv\")\n",
    "test_set.shape , data_MinMaxScaler.shape"
   ]
  },
  {
   "cell_type": "code",
   "execution_count": 4,
   "metadata": {
    "colab": {
     "base_uri": "https://localhost:8080/",
     "height": 102
    },
    "colab_type": "code",
    "id": "L01r61CqsU6n",
    "outputId": "82a4f01f-2245-44fc-c476-7aaea85a5d43"
   },
   "outputs": [],
   "source": [
    "# features=data_StandardScaler.drop([\"SalePrice\"],axis=1)\n",
    "# target=data_StandardScaler[\"SalePrice\"]\n",
    "# Lasso_params={\"alpha\" : [0.005,1e-2,1e-1,1.0,10,100,1000]}\n",
    "# Lasso_Grid=GridSearchCV(estimator=Lasso(random_state=42),\n",
    "#                         param_grid=Lasso_params,\n",
    "#                         )\n",
    "# Lasso_Grid.fit(features,target)\n",
    "# print(\"Best Params {} \".format(Lasso_Grid.best_params_))\n",
    "# print(\"Score {} \".format(Lasso_Grid.best_score_))"
   ]
  },
  {
   "cell_type": "code",
   "execution_count": 5,
   "metadata": {
    "colab": {
     "base_uri": "https://localhost:8080/",
     "height": 34
    },
    "colab_type": "code",
    "id": "sfaSFMY8yNpQ",
    "outputId": "668324d0-5bf2-44b7-ff17-1eeff972b75e"
   },
   "outputs": [],
   "source": [
    "# featureSelection=SelectFromModel(estimator=Lasso(random_state=42,alpha=0.005))\n",
    "# featureSelection.fit(features,target)\n",
    "# Temp_Df=data_MinMaxScaler.drop([\"SalePrice\"],axis=1)\n",
    "# selected_feat = Temp_Df.columns[(featureSelection.get_support())]\n",
    "# len(selected_feat)\n"
   ]
  },
  {
   "cell_type": "code",
   "execution_count": 6,
   "metadata": {
    "colab": {
     "base_uri": "https://localhost:8080/",
     "height": 51
    },
    "colab_type": "code",
    "id": "2PXLPfYUwpvu",
    "outputId": "e766178d-d577-4b04-cc78-5b7e2a06896c"
   },
   "outputs": [
    {
     "name": "stdout",
     "output_type": "stream",
     "text": [
      "Best Params {'alpha': 0.001} \n",
      "Score 0.871496157184807 \n"
     ]
    }
   ],
   "source": [
    "features=data_MinMaxScaler.drop([\"SalePrice\"],axis=1)\n",
    "target=data_MinMaxScaler[\"SalePrice\"]\n",
    "kfold=KFold(n_splits=5,shuffle=True,random_state=42)\n",
    "Lasso_params={\"alpha\" : [1e-5,1e-4,1e-3,1e-2,1e-1,1.0,10,100,1000]}\n",
    "Lasso_Grid=GridSearchCV(estimator=Lasso(random_state=42,tol=0.1),\n",
    "                        param_grid=Lasso_params,\n",
    "                        cv=kfold\n",
    "                        )\n",
    "Lasso_Grid.fit(features,target)\n",
    "print(\"Best Params {} \".format(Lasso_Grid.best_params_))\n",
    "print(\"Score {} \".format(Lasso_Grid.best_score_))"
   ]
  },
  {
   "cell_type": "code",
   "execution_count": 7,
   "metadata": {
    "colab": {
     "base_uri": "https://localhost:8080/",
     "height": 34
    },
    "colab_type": "code",
    "id": "mdnSDINbtcwE",
    "outputId": "16ee935b-8889-4685-aa9d-842754d31cd8"
   },
   "outputs": [
    {
     "data": {
      "text/plain": [
       "41"
      ]
     },
     "execution_count": 7,
     "metadata": {},
     "output_type": "execute_result"
    }
   ],
   "source": [
    "featureSelection=SelectFromModel(estimator=Lasso(random_state=42,alpha=0.001))\n",
    "featureSelection.fit(features,target)\n",
    "Temp_Df=data_MinMaxScaler.drop([\"SalePrice\"],axis=1)\n",
    "selected_feat = Temp_Df.columns[(featureSelection.get_support())]\n",
    "len(selected_feat)\n"
   ]
  },
  {
   "cell_type": "code",
   "execution_count": 8,
   "metadata": {
    "colab": {
     "base_uri": "https://localhost:8080/",
     "height": 187
    },
    "colab_type": "code",
    "id": "3yIymQjqx1xc",
    "outputId": "1375d754-90b2-40bf-8973-59a2816d868b"
   },
   "outputs": [
    {
     "data": {
      "text/plain": [
       "array([False,  True, False, False,  True,  True,  True, False, False,\n",
       "       False,  True, False, False, False, False,  True,  True, False,\n",
       "        True, False, False, False, False, False, False,  True,  True,\n",
       "       False,  True,  True,  True,  True, False, False, False,  True,\n",
       "        True, False,  True, False,  True,  True, False, False,  True,\n",
       "       False, False,  True, False,  True,  True,  True,  True,  True,\n",
       "        True, False, False,  True,  True,  True, False, False, False,\n",
       "       False, False, False, False, False, False, False,  True, False,\n",
       "        True, False, False,  True, False,  True,  True,  True, False,\n",
       "        True,  True,  True, False,  True, False, False,  True])"
      ]
     },
     "execution_count": 8,
     "metadata": {},
     "output_type": "execute_result"
    }
   ],
   "source": [
    "featureSelection.get_support()"
   ]
  },
  {
   "cell_type": "code",
   "execution_count": 9,
   "metadata": {
    "colab": {},
    "colab_type": "code",
    "id": "eZdGWZHRw_Hk"
   },
   "outputs": [],
   "source": [
    "NewDf=data_MinMaxScaler.copy()\n",
    "NewDf=data_MinMaxScaler[selected_feat]\n",
    "features=NewDf"
   ]
  },
  {
   "cell_type": "code",
   "execution_count": 10,
   "metadata": {
    "colab": {
     "base_uri": "https://localhost:8080/",
     "height": 51
    },
    "colab_type": "code",
    "id": "_iPB8-a53Uw3",
    "outputId": "a1bd6570-5c30-4f75-c8ec-7c8ef753f6d7"
   },
   "outputs": [],
   "source": [
    "# kfold=KFold(n_splits=5,shuffle=True,random_state=42)\n",
    "x_train=NewDf\n",
    "y_train=data_MinMaxScaler[\"SalePrice\"]\n",
    "#x_train,x_test,y_train,y_test = train_test_split(features,target,test_size=0.2)\n",
    "# svr_hyperparams={\"C\": np.arange(1 , 10 ,0.5),\n",
    "#               \"kernel\" :[\"rbf\",\"poly\",\"linear\"]}\n",
    "# svr_gridSearch=GridSearchCV(estimator=SVR(),\n",
    "#                            param_grid=svr_hyperparams,\n",
    "#                            cv=kfold,\n",
    "#                            verbose=True,n_jobs=-1)\n",
    "# svr_gridSearch.fit(x_train,y_train)\n",
    "# print(\"Best Score --> \",svr_gridSearch.best_score_)\n",
    "# print(\"Best Params --> \",svr_gridSearch.best_params_)"
   ]
  },
  {
   "cell_type": "code",
   "execution_count": 11,
   "metadata": {
    "colab": {},
    "colab_type": "code",
    "id": "aaX4Hl4k1DaU"
   },
   "outputs": [],
   "source": [
    "# rkfold=KFold(n_splits=5,shuffle=True,random_state=42)\n",
    "# rf_hyperparams={\"n_estimators\": [100,250,500,750,1000,1200,1500] ,\n",
    "#              \"min_samples_split\": np.arange(2,20,2),\n",
    "#              \"max_depth\":[None]}\n",
    "# rf_gridSearch=GridSearchCV(estimator=RandomForestRegressor(random_state=42),\n",
    "#                            param_grid=rf_hyperparams,\n",
    "#                            cv=rkfold,\n",
    "#                            verbose=True,\n",
    "#                           n_jobs=-1)\n",
    "# rf_gridSearch.fit(x_train,y_train)\n",
    "# print(\"Best Score --> \",rf_gridSearch.best_score_)\n",
    "# print(\"Best Params --> \",rf_gridSearch.best_params_)"
   ]
  },
  {
   "cell_type": "code",
   "execution_count": 12,
   "metadata": {},
   "outputs": [],
   "source": [
    "# from sklearn.ensemble import GradientBoostingRegressor\n",
    "\n",
    "# n_estimators = [100, 500, 900, 1100, 1500]\n",
    "# max_depth = [2, 3, 5, 10, 15]\n",
    "# booster=['gbtree','gblinear']\n",
    "# learning_rate=[0.05,0.1,0.15,0.20]\n",
    "# min_child_weight=[1,2,3,4]\n",
    "\n",
    "# # Define the grid of hyperparameters to search\n",
    "# hyperparameter_grid = {\n",
    "#     'n_estimators': n_estimators,\n",
    "#     'max_depth':max_depth,\n",
    "#     'learning_rate':learning_rate}\n",
    "\n",
    "# GDR_Cv=GridSearchCV(estimator=GradientBoostingRegressor(random_state=42)\n",
    "#                     ,param_grid=hyperparameter_grid\n",
    "#                    ,cv=kfold\n",
    "#                    ,scoring=\"neg_mean_squared_error\",\n",
    "#                    n_jobs=-1)\n",
    "# print(\"lsaa\")\n",
    "\n",
    "# print(\"Best Params {} \".format(GDR_Cv.best_params_))\n",
    "# print(\"Score {} \".format(GDR_Cv.best_score_))"
   ]
  },
  {
   "cell_type": "code",
   "execution_count": 13,
   "metadata": {},
   "outputs": [
    {
     "data": {
      "text/plain": [
       "GradientBoostingRegressor(alpha=0.9, criterion='friedman_mse', init=None,\n",
       "                          learning_rate=0.1, loss='ls', max_depth=3,\n",
       "                          max_features=None, max_leaf_nodes=None,\n",
       "                          min_impurity_decrease=0.0, min_impurity_split=None,\n",
       "                          min_samples_leaf=1, min_samples_split=2,\n",
       "                          min_weight_fraction_leaf=0.0, n_estimators=100,\n",
       "                          n_iter_no_change=None, presort='auto',\n",
       "                          random_state=42, subsample=1.0, tol=0.0001,\n",
       "                          validation_fraction=0.1, verbose=0, warm_start=False)"
      ]
     },
     "execution_count": 13,
     "metadata": {},
     "output_type": "execute_result"
    }
   ],
   "source": [
    "from sklearn.ensemble import GradientBoostingRegressor\n",
    "GdR=GradientBoostingRegressor(random_state=42,learning_rate=0.1,max_depth=3,n_estimators=100)\n",
    "GdR.fit(x_train,y_train)"
   ]
  },
  {
   "cell_type": "code",
   "execution_count": 14,
   "metadata": {},
   "outputs": [
    {
     "name": "stderr",
     "output_type": "stream",
     "text": [
      "[Parallel(n_jobs=-1)]: Using backend ThreadingBackend with 4 concurrent workers.\n",
      "[Parallel(n_jobs=-1)]: Done  42 tasks      | elapsed:    0.2s\n",
      "[Parallel(n_jobs=-1)]: Done 192 tasks      | elapsed:    1.5s\n",
      "[Parallel(n_jobs=-1)]: Done 442 tasks      | elapsed:    3.7s\n",
      "[Parallel(n_jobs=-1)]: Done 792 tasks      | elapsed:    6.6s\n",
      "[Parallel(n_jobs=-1)]: Done 1000 out of 1000 | elapsed:    8.5s finished\n"
     ]
    },
    {
     "data": {
      "text/plain": [
       "RandomForestRegressor(bootstrap=True, criterion='mse', max_depth=None,\n",
       "                      max_features='auto', max_leaf_nodes=None,\n",
       "                      min_impurity_decrease=0.0, min_impurity_split=None,\n",
       "                      min_samples_leaf=1, min_samples_split=2,\n",
       "                      min_weight_fraction_leaf=0.0, n_estimators=1000,\n",
       "                      n_jobs=-1, oob_score=False, random_state=42, verbose=True,\n",
       "                      warm_start=False)"
      ]
     },
     "execution_count": 14,
     "metadata": {},
     "output_type": "execute_result"
    }
   ],
   "source": [
    "\n",
    "rf_model=RandomForestRegressor(random_state=42,verbose=True,n_estimators=1000,min_samples_split= 2,max_depth= None,\n",
    "                              n_jobs=-1)\n",
    "rf_model.fit(x_train,y_train)\n"
   ]
  },
  {
   "cell_type": "code",
   "execution_count": 15,
   "metadata": {},
   "outputs": [
    {
     "name": "stdout",
     "output_type": "stream",
     "text": [
      "Best Params {'alpha': 0.0001} \n",
      "Score 0.8805093556279896 \n"
     ]
    }
   ],
   "source": [
    "rkfold=KFold(n_splits=5,shuffle=True,random_state=42)\n",
    "Lasso_Grid=GridSearchCV(estimator=Lasso(random_state=42),\n",
    "                        param_grid=Lasso_params,\n",
    "                        cv=rkfold\n",
    "                        )\n",
    "Lasso_Grid.fit(x_train,y_train)\n",
    "print(\"Best Params {} \".format(Lasso_Grid.best_params_))\n",
    "print(\"Score {} \".format(Lasso_Grid.best_score_))"
   ]
  },
  {
   "cell_type": "code",
   "execution_count": 16,
   "metadata": {},
   "outputs": [
    {
     "name": "stdout",
     "output_type": "stream",
     "text": [
      "Fitting 5 folds for each of 9 candidates, totalling 45 fits\n"
     ]
    },
    {
     "name": "stderr",
     "output_type": "stream",
     "text": [
      "[Parallel(n_jobs=1)]: Using backend SequentialBackend with 1 concurrent workers.\n"
     ]
    },
    {
     "name": "stdout",
     "output_type": "stream",
     "text": [
      "Best Params {'alpha': 0.0001} \n",
      "Score 0.8805002197657505 \n"
     ]
    },
    {
     "name": "stderr",
     "output_type": "stream",
     "text": [
      "[Parallel(n_jobs=1)]: Done  45 out of  45 | elapsed:    0.7s finished\n"
     ]
    }
   ],
   "source": [
    "from sklearn.linear_model import ElasticNet\n",
    "Elastic_params={\"alpha\":[1e-5,1e-4,1e-3,1e-2,1e-1,1.0,10,100,1000]}\n",
    "Elastic_Grid=GridSearchCV(estimator=ElasticNet(random_state=42),\n",
    "                        verbose=True,\n",
    "                        cv=rkfold,\n",
    "                        param_grid=Elastic_params)\n",
    "Elastic_Grid.fit(x_train,y_train)\n",
    "print(\"Best Params {} \".format(Elastic_Grid.best_params_))\n",
    "print(\"Score {} \".format(Elastic_Grid.best_score_))"
   ]
  },
  {
   "cell_type": "code",
   "execution_count": 20,
   "metadata": {
    "colab": {},
    "colab_type": "code",
    "id": "ISugz9eRxMKD"
   },
   "outputs": [],
   "source": [
    "from sklearn.metrics import mean_squared_error\n",
    "\n",
    "# print(\"RandomForest _--> \" ,np.sqrt(mean_squared_error(y_test,rf_model.predict(x_test))))\n",
    "# print(\"Lasso \",np.sqrt(mean_squared_error(y_test,Lasso_Grid.predict(x_test))))\n",
    "# print(\"Elastic \",np.sqrt(mean_squared_error(y_test,Elastic_Grid.predict(x_test))))\n",
    "# print(\"Gradienbooster\",np.sqrt(mean_squared_error(y_test,GdR.predict(x_test)) ))"
   ]
  },
  {
   "cell_type": "code",
   "execution_count": null,
   "metadata": {},
   "outputs": [],
   "source": [
    "features.head()"
   ]
  },
  {
   "cell_type": "code",
   "execution_count": null,
   "metadata": {},
   "outputs": [],
   "source": []
  },
  {
   "cell_type": "code",
   "execution_count": null,
   "metadata": {},
   "outputs": [],
   "source": []
  },
  {
   "cell_type": "code",
   "execution_count": null,
   "metadata": {},
   "outputs": [],
   "source": [
    "def clean_dataset(df):\n",
    "    assert isinstance(df, pd.DataFrame), \"df needs to be a pd.DataFrame\"\n",
    "    df.dropna(inplace=True)\n",
    "    indices_to_keep = ~df.isin([np.nan, np.inf, -np.inf]).any(1)\n",
    "    return df[indices_to_keep].astype(np.float64)"
   ]
  },
  {
   "cell_type": "code",
   "execution_count": 27,
   "metadata": {},
   "outputs": [],
   "source": [
    "\n",
    "NewDf=test_set.copy()\n",
    "NewDf=test_set[selected_feat]\n",
    "#test_set.drop([\"Unnamed: 0\"],axis=1,inplace=True)\n",
    "predicted=Lasso_Grid.predict(NewDf)\n",
    "pred=pd.Series(predicted)\n",
    "sub_df=pd.read_csv('sample_submission.csv')\n",
    "df_id=pd.Series(sub_df[\"Id\"], dtype=np.dtype(\"int32\"))\n",
    "datasets=pd.concat([df_id,pred],axis=1,join=\"inner\")\n",
    "datasets.columns=['Id','SalePrice']\n",
    "datasets.to_csv('Lasso_submission.csv',index=False)"
   ]
  },
  {
   "cell_type": "code",
   "execution_count": null,
   "metadata": {},
   "outputs": [],
   "source": [
    "test_set.head()"
   ]
  },
  {
   "cell_type": "code",
   "execution_count": 28,
   "metadata": {},
   "outputs": [
    {
     "data": {
      "text/html": [
       "<div>\n",
       "<style scoped>\n",
       "    .dataframe tbody tr th:only-of-type {\n",
       "        vertical-align: middle;\n",
       "    }\n",
       "\n",
       "    .dataframe tbody tr th {\n",
       "        vertical-align: top;\n",
       "    }\n",
       "\n",
       "    .dataframe thead th {\n",
       "        text-align: right;\n",
       "    }\n",
       "</style>\n",
       "<table border=\"1\" class=\"dataframe\">\n",
       "  <thead>\n",
       "    <tr style=\"text-align: right;\">\n",
       "      <th></th>\n",
       "      <th>Id</th>\n",
       "      <th>SalePrice</th>\n",
       "    </tr>\n",
       "  </thead>\n",
       "  <tbody>\n",
       "    <tr>\n",
       "      <th>0</th>\n",
       "      <td>1461</td>\n",
       "      <td>11.609366</td>\n",
       "    </tr>\n",
       "    <tr>\n",
       "      <th>1</th>\n",
       "      <td>1462</td>\n",
       "      <td>11.928449</td>\n",
       "    </tr>\n",
       "    <tr>\n",
       "      <th>2</th>\n",
       "      <td>1463</td>\n",
       "      <td>11.991484</td>\n",
       "    </tr>\n",
       "    <tr>\n",
       "      <th>3</th>\n",
       "      <td>1464</td>\n",
       "      <td>12.112115</td>\n",
       "    </tr>\n",
       "    <tr>\n",
       "      <th>4</th>\n",
       "      <td>1465</td>\n",
       "      <td>12.140946</td>\n",
       "    </tr>\n",
       "  </tbody>\n",
       "</table>\n",
       "</div>"
      ],
      "text/plain": [
       "     Id  SalePrice\n",
       "0  1461  11.609366\n",
       "1  1462  11.928449\n",
       "2  1463  11.991484\n",
       "3  1464  12.112115\n",
       "4  1465  12.140946"
      ]
     },
     "execution_count": 28,
     "metadata": {},
     "output_type": "execute_result"
    }
   ],
   "source": [
    "lol=pd.read_csv(\"Lasso_submission.csv\")\n",
    "lol.head()"
   ]
  }
 ],
 "metadata": {
  "colab": {
   "collapsed_sections": [],
   "name": "AdvancedRegressionModel.ipynb",
   "provenance": []
  },
  "kernelspec": {
   "display_name": "Python 3",
   "language": "python",
   "name": "python3"
  },
  "language_info": {
   "codemirror_mode": {
    "name": "ipython",
    "version": 3
   },
   "file_extension": ".py",
   "mimetype": "text/x-python",
   "name": "python",
   "nbconvert_exporter": "python",
   "pygments_lexer": "ipython3",
   "version": "3.7.3"
  }
 },
 "nbformat": 4,
 "nbformat_minor": 1
}
