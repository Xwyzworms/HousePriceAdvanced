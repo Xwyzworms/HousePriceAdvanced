{
 "cells": [
  {
   "cell_type": "code",
   "execution_count": 1,
   "metadata": {
    "colab": {
     "base_uri": "https://localhost:8080/",
     "height": 54
    },
    "colab_type": "code",
    "id": "xT8g_4YEqUEG",
    "outputId": "acfa1739-0ad8-4948-e4c8-0c764a024478"
   },
   "outputs": [],
   "source": [
    "#from google.colab import drive\n",
    "#drive.mount(\"/content/drive\")"
   ]
  },
  {
   "cell_type": "code",
   "execution_count": 2,
   "metadata": {
    "colab": {},
    "colab_type": "code",
    "id": "CHO5xniIqzQi"
   },
   "outputs": [],
   "source": [
    "import numpy as np\n",
    "import pandas as pd\n",
    "from sklearn.model_selection import GridSearchCV,KFold,train_test_split\n",
    "from sklearn.metrics import mean_squared_log_error,mean_squared_error\n",
    "from sklearn.feature_selection import  SelectFromModel\n",
    "from sklearn.ensemble import RandomForestRegressor\n",
    "from sklearn.svm import SVR\n",
    "from sklearn.linear_model import Lasso"
   ]
  },
  {
   "cell_type": "code",
   "execution_count": 3,
   "metadata": {
    "colab": {
     "base_uri": "https://localhost:8080/",
     "height": 34
    },
    "colab_type": "code",
    "id": "orXCleCnr0xS",
    "outputId": "dbab09cf-855f-48d0-a502-cd1294fdcd9f"
   },
   "outputs": [
    {
     "data": {
      "text/plain": [
       "((1460, 84), (1460, 84))"
      ]
     },
     "execution_count": 3,
     "metadata": {},
     "output_type": "execute_result"
    }
   ],
   "source": [
    "data_StandardScaler=pd.read_csv(\"Advanced.csv\")\n",
    "data_MinMaxScaler=pd.read_csv(\"AdvancedMinMax.csv\")\n",
    "data_StandardScaler.shape , data_MinMaxScaler.shape"
   ]
  },
  {
   "cell_type": "code",
   "execution_count": 4,
   "metadata": {
    "colab": {
     "base_uri": "https://localhost:8080/",
     "height": 102
    },
    "colab_type": "code",
    "id": "L01r61CqsU6n",
    "outputId": "82a4f01f-2245-44fc-c476-7aaea85a5d43"
   },
   "outputs": [
    {
     "name": "stderr",
     "output_type": "stream",
     "text": [
      "C:\\Users\\ASUS\\Anaconda3\\lib\\site-packages\\sklearn\\model_selection\\_split.py:1978: FutureWarning: The default value of cv will change from 3 to 5 in version 0.22. Specify it explicitly to silence this warning.\n",
      "  warnings.warn(CV_WARNING, FutureWarning)\n"
     ]
    },
    {
     "name": "stdout",
     "output_type": "stream",
     "text": [
      "Best Params {'alpha': 0.005} \n",
      "Score 0.8712124689353761 \n"
     ]
    }
   ],
   "source": [
    "features=data_StandardScaler.drop([\"SalePrice\"],axis=1)\n",
    "target=data_StandardScaler[\"SalePrice\"]\n",
    "Lasso_params={\"alpha\" : [0.005,1e-2,1e-1,1.0,10,100,1000]}\n",
    "Lasso_Grid=GridSearchCV(estimator=Lasso(random_state=42),\n",
    "                        param_grid=Lasso_params,\n",
    "                        )\n",
    "Lasso_Grid.fit(features,target)\n",
    "print(\"Best Params {} \".format(Lasso_Grid.best_params_))\n",
    "print(\"Score {} \".format(Lasso_Grid.best_score_))"
   ]
  },
  {
   "cell_type": "code",
   "execution_count": 5,
   "metadata": {
    "colab": {
     "base_uri": "https://localhost:8080/",
     "height": 34
    },
    "colab_type": "code",
    "id": "sfaSFMY8yNpQ",
    "outputId": "668324d0-5bf2-44b7-ff17-1eeff972b75e"
   },
   "outputs": [
    {
     "data": {
      "text/plain": [
       "51"
      ]
     },
     "execution_count": 5,
     "metadata": {},
     "output_type": "execute_result"
    }
   ],
   "source": [
    "featureSelection=SelectFromModel(estimator=Lasso(random_state=42,alpha=0.005))\n",
    "featureSelection.fit(features,target)\n",
    "Temp_Df=data_MinMaxScaler.drop([\"SalePrice\"],axis=1)\n",
    "selected_feat = Temp_Df.columns[(featureSelection.get_support())]\n",
    "len(selected_feat)\n"
   ]
  },
  {
   "cell_type": "code",
   "execution_count": 6,
   "metadata": {
    "colab": {
     "base_uri": "https://localhost:8080/",
     "height": 51
    },
    "colab_type": "code",
    "id": "2PXLPfYUwpvu",
    "outputId": "e766178d-d577-4b04-cc78-5b7e2a06896c"
   },
   "outputs": [
    {
     "name": "stderr",
     "output_type": "stream",
     "text": [
      "C:\\Users\\ASUS\\Anaconda3\\lib\\site-packages\\sklearn\\model_selection\\_split.py:1978: FutureWarning: The default value of cv will change from 3 to 5 in version 0.22. Specify it explicitly to silence this warning.\n",
      "  warnings.warn(CV_WARNING, FutureWarning)\n"
     ]
    },
    {
     "name": "stdout",
     "output_type": "stream",
     "text": [
      "Best Params {'alpha': 0.001} \n",
      "Score 0.8818070353495464 \n"
     ]
    }
   ],
   "source": [
    "features=data_MinMaxScaler.drop([\"SalePrice\"],axis=1)\n",
    "target=data_MinMaxScaler[\"SalePrice\"]\n",
    "#kfold=KFold(n_splits=15,shuffle=True,random_state=42)\n",
    "Lasso_params={\"alpha\" : [1e-5,1e-4,1e-3,1e-2,1e-1,1.0,10,100,1000]}\n",
    "Lasso_Grid=GridSearchCV(estimator=Lasso(random_state=42),\n",
    "                        param_grid=Lasso_params,\n",
    "                        )\n",
    "Lasso_Grid.fit(features,target)\n",
    "print(\"Best Params {} \".format(Lasso_Grid.best_params_))\n",
    "print(\"Score {} \".format(Lasso_Grid.best_score_))"
   ]
  },
  {
   "cell_type": "code",
   "execution_count": 7,
   "metadata": {
    "colab": {
     "base_uri": "https://localhost:8080/",
     "height": 34
    },
    "colab_type": "code",
    "id": "mdnSDINbtcwE",
    "outputId": "16ee935b-8889-4685-aa9d-842754d31cd8"
   },
   "outputs": [
    {
     "data": {
      "text/plain": [
       "42"
      ]
     },
     "execution_count": 7,
     "metadata": {},
     "output_type": "execute_result"
    }
   ],
   "source": [
    "featureSelection=SelectFromModel(estimator=Lasso(random_state=42,alpha=0.001))\n",
    "featureSelection.fit(features,target)\n",
    "Temp_Df=data_MinMaxScaler.drop([\"SalePrice\"],axis=1)\n",
    "selected_feat = Temp_Df.columns[(featureSelection.get_support())]\n",
    "len(selected_feat)\n"
   ]
  },
  {
   "cell_type": "code",
   "execution_count": 8,
   "metadata": {
    "colab": {
     "base_uri": "https://localhost:8080/",
     "height": 187
    },
    "colab_type": "code",
    "id": "3yIymQjqx1xc",
    "outputId": "1375d754-90b2-40bf-8973-59a2816d868b"
   },
   "outputs": [
    {
     "data": {
      "text/plain": [
       "array([ True,  True,  True, False,  True, False, False,  True,  True,\n",
       "       False, False, False, False, False,  True, False, False,  True,\n",
       "        True,  True,  True,  True, False,  True, False, False, False,\n",
       "        True,  True, False,  True,  True,  True,  True, False,  True,\n",
       "       False, False, False, False,  True,  True, False,  True, False,\n",
       "       False,  True,  True, False, False,  True, False,  True,  True,\n",
       "       False,  True,  True,  True,  True, False,  True,  True, False,\n",
       "        True,  True,  True,  True, False, False, False,  True, False,\n",
       "       False, False,  True, False, False,  True, False,  True, False,\n",
       "       False, False])"
      ]
     },
     "execution_count": 8,
     "metadata": {},
     "output_type": "execute_result"
    }
   ],
   "source": [
    "featureSelection.get_support()"
   ]
  },
  {
   "cell_type": "code",
   "execution_count": 9,
   "metadata": {
    "colab": {},
    "colab_type": "code",
    "id": "eZdGWZHRw_Hk"
   },
   "outputs": [],
   "source": [
    "#NewDf=data_MinMaxScaler.copy()\n",
    "#NewDf=data_MinMaxScaler[selected_feat]\n",
    "#NewDf.drop(\"Unnamed: 0\",axis=1).head()\n",
    "#features=NewDf"
   ]
  },
  {
   "cell_type": "code",
   "execution_count": 10,
   "metadata": {
    "colab": {
     "base_uri": "https://localhost:8080/",
     "height": 51
    },
    "colab_type": "code",
    "id": "_iPB8-a53Uw3",
    "outputId": "a1bd6570-5c30-4f75-c8ec-7c8ef753f6d7"
   },
   "outputs": [],
   "source": [
    "# kfold=KFold(n_splits=5,shuffle=True,random_state=42)\n",
    "x_train,x_test,y_train,y_test=train_test_split(features,target,test_size=0.2,random_state=42)\n",
    "# svr_hyperparams={\"C\": np.arange(1 , 10 ,0.5),\n",
    "#               \"kernel\" :[\"rbf\",\"poly\",\"linear\"]}\n",
    "# svr_gridSearch=GridSearchCV(estimator=SVR(),\n",
    "#                            param_grid=svr_hyperparams,\n",
    "#                            cv=kfold,\n",
    "#                            verbose=True,n_jobs=-1)\n",
    "# svr_gridSearch.fit(x_train,y_train)\n",
    "# print(\"Best Score --> \",svr_gridSearch.best_score_)\n",
    "# print(\"Best Params --> \",svr_gridSearch.best_params_)"
   ]
  },
  {
   "cell_type": "code",
   "execution_count": 11,
   "metadata": {
    "colab": {},
    "colab_type": "code",
    "id": "aaX4Hl4k1DaU"
   },
   "outputs": [
    {
     "name": "stdout",
     "output_type": "stream",
     "text": [
      "Fitting 5 folds for each of 27 candidates, totalling 135 fits\n"
     ]
    },
    {
     "name": "stderr",
     "output_type": "stream",
     "text": [
      "[Parallel(n_jobs=-1)]: Using backend LokyBackend with 4 concurrent workers.\n",
      "[Parallel(n_jobs=-1)]: Done  42 tasks      | elapsed:  1.7min\n",
      "[Parallel(n_jobs=-1)]: Done 135 out of 135 | elapsed:  4.5min finished\n"
     ]
    },
    {
     "name": "stdout",
     "output_type": "stream",
     "text": [
      "Best Score -->  0.8600979944321636\n",
      "Best Params -->  {'max_depth': None, 'min_samples_split': 2, 'n_estimators': 250}\n"
     ]
    }
   ],
   "source": [
    "rkfold=KFold(n_splits=5,shuffle=True,random_state=42)\n",
    "rf_hyperparams={\"n_estimators\": [10,250,10] ,\n",
    "             \"min_samples_split\": np.arange(2,20,2),\n",
    "             \"max_depth\":[None]}\n",
    "rf_gridSearch=GridSearchCV(estimator=RandomForestRegressor(random_state=42),\n",
    "                           param_grid=rf_hyperparams,\n",
    "                           cv=rkfold,\n",
    "                           verbose=True,\n",
    "                          n_jobs=-1)\n",
    "rf_gridSearch.fit(x_train,y_train)\n",
    "print(\"Best Score --> \",rf_gridSearch.best_score_)\n",
    "print(\"Best Params --> \",rf_gridSearch.best_params_)"
   ]
  },
  {
   "cell_type": "code",
   "execution_count": 12,
   "metadata": {},
   "outputs": [
    {
     "name": "stdout",
     "output_type": "stream",
     "text": [
      "Fitting 5 folds for each of 9 candidates, totalling 45 fits\n"
     ]
    },
    {
     "name": "stderr",
     "output_type": "stream",
     "text": [
      "[Parallel(n_jobs=1)]: Using backend SequentialBackend with 1 concurrent workers.\n"
     ]
    },
    {
     "name": "stdout",
     "output_type": "stream",
     "text": [
      "Best Params {'alpha': 0.001} \n",
      "Score 0.8810618375731727 \n"
     ]
    },
    {
     "name": "stderr",
     "output_type": "stream",
     "text": [
      "[Parallel(n_jobs=1)]: Done  45 out of  45 | elapsed:    2.4s finished\n"
     ]
    }
   ],
   "source": [
    "rkfold=KFold(n_splits=5,shuffle=True,random_state=42)\n",
    "Lasso_Grid=GridSearchCV(estimator=Lasso(random_state=42),\n",
    "                        param_grid=Lasso_params,\n",
    "                        verbose=True,\n",
    "                        cv=rkfold\n",
    "                        )\n",
    "Lasso_Grid.fit(x_train,y_train)\n",
    "print(\"Best Params {} \".format(Lasso_Grid.best_params_))\n",
    "print(\"Score {} \".format(Lasso_Grid.best_score_))"
   ]
  },
  {
   "cell_type": "code",
   "execution_count": 13,
   "metadata": {},
   "outputs": [
    {
     "name": "stderr",
     "output_type": "stream",
     "text": [
      "[Parallel(n_jobs=1)]: Using backend SequentialBackend with 1 concurrent workers.\n"
     ]
    },
    {
     "name": "stdout",
     "output_type": "stream",
     "text": [
      "Fitting 5 folds for each of 9 candidates, totalling 45 fits\n",
      "Best Params {'alpha': 0.001} \n",
      "Score 0.8793397317785385 \n"
     ]
    },
    {
     "name": "stderr",
     "output_type": "stream",
     "text": [
      "[Parallel(n_jobs=1)]: Done  45 out of  45 | elapsed:    3.1s finished\n"
     ]
    }
   ],
   "source": [
    "from sklearn.linear_model import ElasticNet\n",
    "Elastic_params={\"alpha\":[1e-5,1e-4,1e-3,1e-2,1e-1,1.0,10,100,1000]}\n",
    "Elastic_Grid=GridSearchCV(estimator=ElasticNet(random_state=42),\n",
    "                        verbose=True,\n",
    "                        cv=rkfold,\n",
    "                        param_grid=Elastic_params)\n",
    "Elastic_Grid.fit(x_train,y_train)\n",
    "print(\"Best Params {} \".format(Elastic_Grid.best_params_))\n",
    "print(\"Score {} \".format(Elastic_Grid.best_score_))"
   ]
  },
  {
   "cell_type": "code",
   "execution_count": 14,
   "metadata": {
    "colab": {},
    "colab_type": "code",
    "id": "ISugz9eRxMKD"
   },
   "outputs": [
    {
     "name": "stdout",
     "output_type": "stream",
     "text": [
      "RandomForest _-->  0.14461820561433497\n",
      "Lasso  0.14281365002619856\n",
      "Elastic  0.14123795485854615\n"
     ]
    }
   ],
   "source": [
    "from sklearn.metrics import mean_squared_error\n",
    "\n",
    "print(\"RandomForest _--> \" ,np.sqrt(mean_squared_error(y_test,rf_gridSearch.predict(x_test))))\n",
    "print(\"Lasso \",np.sqrt(mean_squared_error(y_test,Lasso_Grid.predict(x_test))))\n",
    "print(\"Elastic \",np.sqrt(mean_squared_error(y_test,Elastic_Grid.predict(x_test))))"
   ]
  }
 ],
 "metadata": {
  "colab": {
   "collapsed_sections": [],
   "name": "AdvancedRegressionModel.ipynb",
   "provenance": []
  },
  "kernelspec": {
   "display_name": "Python 3",
   "language": "python",
   "name": "python3"
  },
  "language_info": {
   "codemirror_mode": {
    "name": "ipython",
    "version": 3
   },
   "file_extension": ".py",
   "mimetype": "text/x-python",
   "name": "python",
   "nbconvert_exporter": "python",
   "pygments_lexer": "ipython3",
   "version": "3.7.3"
  }
 },
 "nbformat": 4,
 "nbformat_minor": 1
}
